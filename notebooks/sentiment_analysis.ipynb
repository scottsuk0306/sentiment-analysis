{
 "cells": [
  {
   "cell_type": "code",
   "execution_count": 1,
   "id": "ba1ff174",
   "metadata": {},
   "outputs": [],
   "source": [
    "import sys, os\n",
    "\n",
    "module_path = os.path.abspath(os.path.join('..'))\n",
    "\n",
    "if module_path not in sys.path:\n",
    "    sys.path.append(module_path + \"\\src\")"
   ]
  },
  {
   "cell_type": "code",
   "execution_count": 2,
   "id": "5cc822db",
   "metadata": {},
   "outputs": [
    {
     "data": {
      "text/html": [
       "<div>\n",
       "<style scoped>\n",
       "    .dataframe tbody tr th:only-of-type {\n",
       "        vertical-align: middle;\n",
       "    }\n",
       "\n",
       "    .dataframe tbody tr th {\n",
       "        vertical-align: top;\n",
       "    }\n",
       "\n",
       "    .dataframe thead th {\n",
       "        text-align: right;\n",
       "    }\n",
       "</style>\n",
       "<table border=\"1\" class=\"dataframe\">\n",
       "  <thead>\n",
       "    <tr style=\"text-align: right;\">\n",
       "      <th></th>\n",
       "      <th>Unnamed: 0</th>\n",
       "      <th>review</th>\n",
       "      <th>sentiment</th>\n",
       "    </tr>\n",
       "  </thead>\n",
       "  <tbody>\n",
       "    <tr>\n",
       "      <th>0</th>\n",
       "      <td>0</td>\n",
       "      <td>one review ha mention watch 1 oz episod youll ...</td>\n",
       "      <td>positive</td>\n",
       "    </tr>\n",
       "    <tr>\n",
       "      <th>1</th>\n",
       "      <td>1</td>\n",
       "      <td>wonder littl product film techniqu veri unassu...</td>\n",
       "      <td>positive</td>\n",
       "    </tr>\n",
       "    <tr>\n",
       "      <th>2</th>\n",
       "      <td>2</td>\n",
       "      <td>thought thi wa wonder way spend time hot summe...</td>\n",
       "      <td>positive</td>\n",
       "    </tr>\n",
       "    <tr>\n",
       "      <th>3</th>\n",
       "      <td>3</td>\n",
       "      <td>basic famili littl boy jake think zombi hi clo...</td>\n",
       "      <td>negative</td>\n",
       "    </tr>\n",
       "    <tr>\n",
       "      <th>4</th>\n",
       "      <td>4</td>\n",
       "      <td>petter mattei love time money visual stun film...</td>\n",
       "      <td>positive</td>\n",
       "    </tr>\n",
       "    <tr>\n",
       "      <th>5</th>\n",
       "      <td>5</td>\n",
       "      <td>probabl alltim favorit movi stori selfless sac...</td>\n",
       "      <td>positive</td>\n",
       "    </tr>\n",
       "    <tr>\n",
       "      <th>6</th>\n",
       "      <td>6</td>\n",
       "      <td>sure would like see resurrect date seahunt ser...</td>\n",
       "      <td>positive</td>\n",
       "    </tr>\n",
       "    <tr>\n",
       "      <th>7</th>\n",
       "      <td>7</td>\n",
       "      <td>thi show wa amaz fresh innov idea 70 first air...</td>\n",
       "      <td>negative</td>\n",
       "    </tr>\n",
       "    <tr>\n",
       "      <th>8</th>\n",
       "      <td>8</td>\n",
       "      <td>encourag posit comment thi film wa look forwar...</td>\n",
       "      <td>negative</td>\n",
       "    </tr>\n",
       "    <tr>\n",
       "      <th>9</th>\n",
       "      <td>9</td>\n",
       "      <td>like origin gut wrench laughter like thi movi ...</td>\n",
       "      <td>positive</td>\n",
       "    </tr>\n",
       "  </tbody>\n",
       "</table>\n",
       "</div>"
      ],
      "text/plain": [
       "   Unnamed: 0                                             review sentiment\n",
       "0           0  one review ha mention watch 1 oz episod youll ...  positive\n",
       "1           1  wonder littl product film techniqu veri unassu...  positive\n",
       "2           2  thought thi wa wonder way spend time hot summe...  positive\n",
       "3           3  basic famili littl boy jake think zombi hi clo...  negative\n",
       "4           4  petter mattei love time money visual stun film...  positive\n",
       "5           5  probabl alltim favorit movi stori selfless sac...  positive\n",
       "6           6  sure would like see resurrect date seahunt ser...  positive\n",
       "7           7  thi show wa amaz fresh innov idea 70 first air...  negative\n",
       "8           8  encourag posit comment thi film wa look forwar...  negative\n",
       "9           9  like origin gut wrench laughter like thi movi ...  positive"
      ]
     },
     "execution_count": 2,
     "metadata": {},
     "output_type": "execute_result"
    }
   ],
   "source": [
    "from preprocess import normalize_text\n",
    "import pandas as pd\n",
    "\n",
    "imdb_data=pd.read_csv('../data/normalized IMDB dataset.csv')\n",
    "imdb_data.head(10)"
   ]
  },
  {
   "cell_type": "code",
   "execution_count": 3,
   "id": "c6fb65b0",
   "metadata": {},
   "outputs": [
    {
     "name": "stdout",
     "output_type": "stream",
     "text": [
      "(40000,) (40000,)\n",
      "(10000,) (10000,)\n"
     ]
    }
   ],
   "source": [
    "#split the dataset  \n",
    "#train dataset\n",
    "train_reviews=imdb_data.review[:40000]\n",
    "train_sentiments=imdb_data.sentiment[:40000]\n",
    "#test dataset\n",
    "test_reviews=imdb_data.review[40000:]\n",
    "test_sentiments=imdb_data.sentiment[40000:]\n",
    "print(train_reviews.shape,train_sentiments.shape)\n",
    "print(test_reviews.shape,test_sentiments.shape)"
   ]
  },
  {
   "cell_type": "code",
   "execution_count": 4,
   "id": "7af38560",
   "metadata": {},
   "outputs": [],
   "source": [
    "#import nltk\n",
    "# nltk.download(stopwords)\n",
    "#imdb_data.apply(normalize_text)\n",
    "# Result already saved in \"normalized IMDB dataset.csv\""
   ]
  },
  {
   "cell_type": "code",
   "execution_count": 5,
   "id": "7ab6c860",
   "metadata": {},
   "outputs": [],
   "source": [
    "#normalized train reviews\n",
    "norm_train_reviews=imdb_data.review[:40000]\n",
    "norm_test_reviews=imdb_data.review[40000:]"
   ]
  },
  {
   "cell_type": "markdown",
   "id": "25402645",
   "metadata": {},
   "source": [
    "## Different Word Representations\n",
    "- Bag of Words\n",
    "- TF-IDF\n",
    "- Word2Vec - CBOW\n",
    "- Word2Vec - Skipgram\n",
    "- Glove (TODO)\n",
    "- FastText (TODO)"
   ]
  },
  {
   "cell_type": "code",
   "execution_count": null,
   "id": "9d1169ce",
   "metadata": {},
   "outputs": [],
   "source": [
    "from sklearn.preprocessing import LabelBinarizer\n",
    "\n",
    "#labeling the sentient data\n",
    "lb=LabelBinarizer()\n",
    "#transformed sentiment data\n",
    "sentiment_data=lb.fit_transform(imdb_data['sentiment'])\n",
    "print(sentiment_data.shape)\n",
    "\n",
    "#Spliting the sentiment data\n",
    "train_sentiments=sentiment_data[:40000]\n",
    "test_sentiments=sentiment_data[40000:]\n",
    "print(train_sentiments)\n",
    "print(test_sentiments)"
   ]
  },
  {
   "cell_type": "code",
   "execution_count": 8,
   "id": "4f65f13e",
   "metadata": {},
   "outputs": [
    {
     "name": "stdout",
     "output_type": "stream",
     "text": [
      "BOW_cv_train: (40000, 6209089)\n",
      "BOW_cv_test: (10000, 6209089)\n"
     ]
    }
   ],
   "source": [
    "from sklearn.feature_extraction.text import CountVectorizer\n",
    "from sklearn.feature_extraction.text import TfidfVectorizer\n",
    "\n",
    "#Count vectorizer for bag of words\n",
    "cv=CountVectorizer(min_df=0,max_df=1,binary=False,ngram_range=(1,3))\n",
    "#transformed train reviews\n",
    "cv_train_reviews=cv.fit_transform(norm_train_reviews)\n",
    "#transformed test reviews\n",
    "cv_test_reviews=cv.transform(norm_test_reviews)\n",
    "\n",
    "print('BOW_cv_train:',cv_train_reviews.shape)\n",
    "print('BOW_cv_test:',cv_test_reviews.shape)\n",
    "#vocab=cv.get_feature_names()-toget feature names"
   ]
  },
  {
   "cell_type": "code",
   "execution_count": 9,
   "id": "34cdd45e",
   "metadata": {},
   "outputs": [
    {
     "name": "stdout",
     "output_type": "stream",
     "text": [
      "Tfidf_train: (40000, 6209089)\n",
      "Tfidf_test: (10000, 6209089)\n"
     ]
    }
   ],
   "source": [
    "#Tfidf vectorizer\n",
    "tv=TfidfVectorizer(min_df=0,max_df=1,use_idf=True,ngram_range=(1,3))\n",
    "#transformed train reviews\n",
    "tv_train_reviews=tv.fit_transform(norm_train_reviews)\n",
    "#transformed test reviews\n",
    "tv_test_reviews=tv.transform(norm_test_reviews)\n",
    "print('Tfidf_train:',tv_train_reviews.shape)\n",
    "print('Tfidf_test:',tv_test_reviews.shape)"
   ]
  },
  {
   "cell_type": "markdown",
   "id": "30aa5223",
   "metadata": {},
   "source": [
    "### Word2Vec Details\n",
    "\n",
    "There are differet methods to get the sentence vectors :\n",
    "\n",
    "**Doc2Vec** : you can train your dataset using Doc2Vec and then use the sentence vectors.\n",
    "\n",
    "**Average of Word2Vec vectors** : You can just take the average of all the word vectors in a sentence. This average vector will represent your sentence vector.\n",
    "\n",
    "**Average of Word2Vec vectors with TF-IDF** : this is one of the best approach which I will recommend. Just take the word vectors and multiply it with their TF-\n",
    "IDF scores. Just take the average and it will represent your sentence vector.\n",
    "\n",
    "(reference: [link](https://stackoverflow.com/questions/29760935/how-to-get-vector-for-a-sentence-from-the-word2vec-of-tokens-in-sentence))\n",
    "\n",
    "\n",
    "Here, I used Doc2Vec approach using Gensim.\n",
    "In Gensim, there are two implementations for Doc2Vec:\n",
    "\n",
    "- Paragraph Vector - Distributed Memory (PV-DM) - corresponds to CBOW\n",
    "\n",
    "- Paragraph Vector - Distributed Bag of Words (PV-DBOW) - corresponds to SkipGram\n",
    "\n",
    "Code adapted from [here](https://radimrehurek.com/gensim/auto_examples/tutorials/run_doc2vec_lee.html#sphx-glr-auto-examples-tutorials-run-doc2vec-lee-py)."
   ]
  },
  {
   "cell_type": "code",
   "execution_count": 38,
   "id": "f57670d9",
   "metadata": {},
   "outputs": [],
   "source": [
    "import multiprocessing\n",
    "import gensim\n",
    "from gensim.models import doc2vec\n",
    "\n",
    "def generate_corpus(df, tokens_only = False):\n",
    "    for index, row in df.iteritems():\n",
    "        # print(row)\n",
    "        tokens = gensim.utils.simple_preprocess(row)\n",
    "        if tokens_only:\n",
    "            yield tokens\n",
    "        else:\n",
    "            yield doc2vec.TaggedDocument(words = tokens, tags = [index])\n",
    "            \n",
    "train_corpus = list(generate_corpus(norm_train_reviews))\n",
    "test_corpus = list(generate_corpus(norm_test_reviews, tokens_only = True))\n"
   ]
  },
  {
   "cell_type": "code",
   "execution_count": 39,
   "id": "ce0bdb64",
   "metadata": {},
   "outputs": [
    {
     "name": "stdout",
     "output_type": "stream",
     "text": [
      "Word 'good' appeared 23340 times in the training corpus.\n"
     ]
    }
   ],
   "source": [
    "# dm = 0: PV-DM\n",
    "# dm = 1: PV-DBOW\n",
    "d2v_model_cbow = gensim.models.doc2vec.Doc2Vec(vector_size=50, min_count=2, epochs=20, dm=1)\n",
    "d2v_model_cbow.build_vocab(train_corpus)\n",
    "\n",
    "print(f\"Word 'good' appeared {d2v_model_cbow.wv.get_vecattr('good', 'count')} times in the training corpus.\")"
   ]
  },
  {
   "cell_type": "code",
   "execution_count": 40,
   "id": "9dd00edd",
   "metadata": {},
   "outputs": [
    {
     "name": "stdout",
     "output_type": "stream",
     "text": [
      "time elapsed: 80.09964966773987\n"
     ]
    }
   ],
   "source": [
    "import time\n",
    "\n",
    "\n",
    "start = time.time()\n",
    "\n",
    "d2v_model_cbow.train(train_corpus, total_examples=d2v_model_cbow.corpus_count, epochs=d2v_model_cbow.epochs)\n",
    "\n",
    "end = time.time()\n",
    "\n",
    "print('time elapsed:', end - start)\n"
   ]
  },
  {
   "cell_type": "code",
   "execution_count": 41,
   "id": "de6a3f11",
   "metadata": {},
   "outputs": [
    {
     "name": "stdout",
     "output_type": "stream",
     "text": [
      "(50,)\n",
      "[-0.60858905  0.75907207  0.5305222  -0.6922508  -2.2326393  -0.18228646\n",
      "  1.7934977   0.05564959 -0.42275926  1.1776123   0.33512872 -0.9082353\n",
      "  1.9483105   1.0670248  -0.5156318  -0.15090711 -0.3368744  -1.1634853\n",
      " -0.9918529  -0.499774    0.9081558   0.5998203   0.48171657  0.5758911\n",
      "  0.734256    2.1832852   0.7550474   0.48498774 -0.89031696 -0.01820174\n",
      "  0.29942718  0.39104307 -0.06870332 -0.9074729   0.7520646  -0.86472875\n",
      "  0.6876076   0.4599352   0.24738263 -0.75093395  1.03252    -1.1094545\n",
      " -0.9312001   0.8651036   0.50095767  0.8094793   0.12230206  0.7860469\n",
      "  0.47571358  0.15042062]\n"
     ]
    }
   ],
   "source": [
    "import random\n",
    "\n",
    "# Pick a random document from the test corpus and infer a vector from the model\n",
    "doc_id = random.randint(0, len(test_corpus) - 1)\n",
    "inferred_vector = d2v_model_cbow.infer_vector(test_corpus[doc_id])\n",
    "\n",
    "print(inferred_vector.shape)\n",
    "print(inferred_vector)"
   ]
  },
  {
   "cell_type": "code",
   "execution_count": 48,
   "id": "fca900c6",
   "metadata": {},
   "outputs": [],
   "source": [
    "import numpy as np\n",
    "\n",
    "def word_vector(model, tokens, size):\n",
    "    vec = np.zeros(size).reshape((1, size))\n",
    "    count = 0\n",
    "    for word in tokens:\n",
    "        try:\n",
    "            vec += model[word].reshape((1, size))\n",
    "            count += 1.\n",
    "        except KeyError:  # handling the case where the token is not in vocabulary\n",
    "            continue\n",
    "    if count != 0:\n",
    "        vec = vec / count\n",
    "    return vec"
   ]
  },
  {
   "cell_type": "code",
   "execution_count": 51,
   "id": "3ecccfa5",
   "metadata": {},
   "outputs": [
    {
     "name": "stdout",
     "output_type": "stream",
     "text": [
      "(40000, 50)\n"
     ]
    }
   ],
   "source": [
    "wordvec_arrays = np.zeros((len(train_corpus), 50))\n",
    "\n",
    "for i in range(len(train_corpus)):\n",
    "    wordvec_arrays[i,:] = word_vector(d2v_model_cbow, train_corpus[i].words, 50)\n",
    "\n",
    "wordvec_df = pd.DataFrame(wordvec_arrays)\n",
    "print(wordvec_df.shape)"
   ]
  },
  {
   "cell_type": "markdown",
   "id": "9e35b510",
   "metadata": {},
   "source": [
    "### GloVe Details\n"
   ]
  },
  {
   "cell_type": "markdown",
   "id": "fd58c532",
   "metadata": {},
   "source": [
    "## Models\n",
    "- Logistic Regression\n",
    "- Support Vector Machine\n",
    "- Multinomial Naive Bayes\n",
    "- RNN based structure\n",
    "- BERT"
   ]
  },
  {
   "cell_type": "code",
   "execution_count": null,
   "id": "69f703c3",
   "metadata": {},
   "outputs": [],
   "source": []
  }
 ],
 "metadata": {
  "kernelspec": {
   "display_name": "Python 3 (ipykernel)",
   "language": "python",
   "name": "python3"
  },
  "language_info": {
   "codemirror_mode": {
    "name": "ipython",
    "version": 3
   },
   "file_extension": ".py",
   "mimetype": "text/x-python",
   "name": "python",
   "nbconvert_exporter": "python",
   "pygments_lexer": "ipython3",
   "version": "3.9.12"
  }
 },
 "nbformat": 4,
 "nbformat_minor": 5
}
